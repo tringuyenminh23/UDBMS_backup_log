{
 "cells": [
  {
   "cell_type": "code",
   "execution_count": 1,
   "metadata": {},
   "outputs": [],
   "source": [
    "import pandas as pd\n",
    "import numpy as np\n",
    "import os\n",
    "import json"
   ]
  },
  {
   "cell_type": "code",
   "execution_count": 2,
   "metadata": {},
   "outputs": [],
   "source": [
    "folder_name = 'orderline_price_asin_small'\n",
    "if not os.path.exists('./new_data/' + folder_name):\n",
    "    os.makedirs('./new_data/' + folder_name)"
   ]
  },
  {
   "cell_type": "code",
   "execution_count": 3,
   "metadata": {},
   "outputs": [],
   "source": [
    "with open('./new_data/criteria/' + folder_name + '.json') as f:\n",
    "    config = json.load(f)"
   ]
  },
  {
   "cell_type": "code",
   "execution_count": 4,
   "metadata": {},
   "outputs": [],
   "source": [
    "for element in config['elements']:\n",
    "    element_stats = config['elements_stats'][element]\n",
    "    element_v = np.random.normal(element_stats['mean'], element_stats['std'], element_stats['count'])\n",
    "    np.savetxt('./new_data/' + folder_name + '/' + element + '_v.dat', element_v, fmt='%i')"
   ]
  },
  {
   "cell_type": "code",
   "execution_count": 5,
   "metadata": {},
   "outputs": [
    {
     "name": "stdout",
     "output_type": "stream",
     "text": [
      "orderline_price_asin\n",
      "{'count': 10000, 'elements': ['orderline', 'price', 'asin'], 'orderline': {'mean': 30000, 'std': 3000}, 'price': {'mean': 110000, 'std': 4000}, 'asin': {'mean': 60000, 'std': 5000}}\n",
      "orderline_asin\n",
      "{'count': 10000, 'elements': ['orderline', 'asin'], 'orderline': {'mean': 29000, 'std': 2000}, 'asin': {'mean': 57000, 'std': 4000}}\n",
      "orderline_price\n",
      "{'count': 10000, 'elements': ['orderline', 'price'], 'orderline': {'mean': 31000, 'std': 3000}, 'price': {'mean': 109000, 'std': 3000}}\n",
      "price_asin\n",
      "{'count': 10000, 'elements': ['price', 'asin'], 'price': {'mean': 100000, 'std': 1500}, 'asin': {'mean': 56000, 'std': 2000}}\n"
     ]
    }
   ],
   "source": [
    "for table in config['tables']:\n",
    "    print(table)\n",
    "    table_stats = config['tables_stats'][table]\n",
    "    table_elements = table_stats['elements']\n",
    "    table_count = table_stats['count']\n",
    "    print(table_stats)\n",
    "    table_data = np.random.normal(table_stats[table_elements[0]]['mean'], \n",
    "                                  table_stats[table_elements[0]]['std'], table_count)\n",
    "    for i in range(1, len(table_elements)):\n",
    "        column = np.random.normal(table_stats[table_elements[i]]['mean'], \n",
    "                                  table_stats[table_elements[1]]['std'], table_count)\n",
    "        table_data = np.column_stack((table_data, column))\n",
    "    np.savetxt('./new_data/' + folder_name + '/' + table + '_table.dat', table_data, fmt='%i')\n",
    "                   \n",
    "    \n",
    "        "
   ]
  }
 ],
 "metadata": {
  "kernelspec": {
   "display_name": "Python 3",
   "language": "python",
   "name": "python3"
  },
  "language_info": {
   "codemirror_mode": {
    "name": "ipython",
    "version": 3
   },
   "file_extension": ".py",
   "mimetype": "text/x-python",
   "name": "python",
   "nbconvert_exporter": "python",
   "pygments_lexer": "ipython3",
   "version": "3.6.4"
  }
 },
 "nbformat": 4,
 "nbformat_minor": 2
}
